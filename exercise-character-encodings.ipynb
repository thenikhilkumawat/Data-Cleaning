{
 "cells": [
  {
   "cell_type": "markdown",
   "id": "95255f23",
   "metadata": {
    "papermill": {
     "duration": 0.00662,
     "end_time": "2023-06-29T13:21:41.823110",
     "exception": false,
     "start_time": "2023-06-29T13:21:41.816490",
     "status": "completed"
    },
    "tags": []
   },
   "source": [
    "**This notebook is an exercise in the [Data Cleaning](https://www.kaggle.com/learn/data-cleaning) course.  You can reference the tutorial at [this link](https://www.kaggle.com/alexisbcook/character-encodings).**\n",
    "\n",
    "---\n"
   ]
  },
  {
   "cell_type": "markdown",
   "id": "562cf980",
   "metadata": {
    "papermill": {
     "duration": 0.005831,
     "end_time": "2023-06-29T13:21:41.835617",
     "exception": false,
     "start_time": "2023-06-29T13:21:41.829786",
     "status": "completed"
    },
    "tags": []
   },
   "source": [
    "In this exercise, you'll apply what you learned in the **Character encodings** tutorial.\n",
    "\n",
    "# Setup\n",
    "\n",
    "The questions below will give you feedback on your work. Run the following cell to set up the feedback system."
   ]
  },
  {
   "cell_type": "code",
   "execution_count": 1,
   "id": "1e5445d0",
   "metadata": {
    "execution": {
     "iopub.execute_input": "2023-06-29T13:21:41.850565Z",
     "iopub.status.busy": "2023-06-29T13:21:41.849781Z",
     "iopub.status.idle": "2023-06-29T13:21:41.946848Z",
     "shell.execute_reply": "2023-06-29T13:21:41.946014Z"
    },
    "papermill": {
     "duration": 0.107311,
     "end_time": "2023-06-29T13:21:41.949432",
     "exception": false,
     "start_time": "2023-06-29T13:21:41.842121",
     "status": "completed"
    },
    "tags": []
   },
   "outputs": [
    {
     "name": "stdout",
     "output_type": "stream",
     "text": [
      "Setup Complete\n"
     ]
    }
   ],
   "source": [
    "from learntools.core import binder\n",
    "binder.bind(globals())\n",
    "from learntools.data_cleaning.ex4 import *\n",
    "print(\"Setup Complete\")"
   ]
  },
  {
   "cell_type": "markdown",
   "id": "f5c7cdb3",
   "metadata": {
    "papermill": {
     "duration": 0.005901,
     "end_time": "2023-06-29T13:21:41.961649",
     "exception": false,
     "start_time": "2023-06-29T13:21:41.955748",
     "status": "completed"
    },
    "tags": []
   },
   "source": [
    "# Get our environment set up\n",
    "\n",
    "The first thing we'll need to do is load in the libraries we'll be using."
   ]
  },
  {
   "cell_type": "code",
   "execution_count": 2,
   "id": "19d9dd9f",
   "metadata": {
    "execution": {
     "iopub.execute_input": "2023-06-29T13:21:41.975999Z",
     "iopub.status.busy": "2023-06-29T13:21:41.975024Z",
     "iopub.status.idle": "2023-06-29T13:21:41.980300Z",
     "shell.execute_reply": "2023-06-29T13:21:41.979289Z"
    },
    "papermill": {
     "duration": 0.014844,
     "end_time": "2023-06-29T13:21:41.982556",
     "exception": false,
     "start_time": "2023-06-29T13:21:41.967712",
     "status": "completed"
    },
    "tags": []
   },
   "outputs": [],
   "source": [
    "# modules we'll use\n",
    "import pandas as pd\n",
    "import numpy as np\n",
    "\n",
    "# helpful character encoding module\n",
    "import charset_normalizer\n",
    "\n",
    "# set seed for reproducibility\n",
    "np.random.seed(0)"
   ]
  },
  {
   "cell_type": "markdown",
   "id": "95c231d7",
   "metadata": {
    "papermill": {
     "duration": 0.007266,
     "end_time": "2023-06-29T13:21:41.995795",
     "exception": false,
     "start_time": "2023-06-29T13:21:41.988529",
     "status": "completed"
    },
    "tags": []
   },
   "source": [
    "# 1) What are encodings?\n",
    "\n",
    "You're working with a dataset composed of bytes.  Run the code cell below to print a sample entry."
   ]
  },
  {
   "cell_type": "code",
   "execution_count": 3,
   "id": "748ef8e8",
   "metadata": {
    "execution": {
     "iopub.execute_input": "2023-06-29T13:21:42.009747Z",
     "iopub.status.busy": "2023-06-29T13:21:42.009037Z",
     "iopub.status.idle": "2023-06-29T13:21:42.014377Z",
     "shell.execute_reply": "2023-06-29T13:21:42.013355Z"
    },
    "papermill": {
     "duration": 0.015045,
     "end_time": "2023-06-29T13:21:42.016788",
     "exception": false,
     "start_time": "2023-06-29T13:21:42.001743",
     "status": "completed"
    },
    "tags": []
   },
   "outputs": [
    {
     "name": "stdout",
     "output_type": "stream",
     "text": [
      "b'\\xa7A\\xa6n'\n",
      "data type: <class 'bytes'>\n"
     ]
    }
   ],
   "source": [
    "sample_entry = b'\\xa7A\\xa6n'\n",
    "print(sample_entry)\n",
    "print('data type:', type(sample_entry))"
   ]
  },
  {
   "cell_type": "markdown",
   "id": "da531612",
   "metadata": {
    "papermill": {
     "duration": 0.006115,
     "end_time": "2023-06-29T13:21:42.029396",
     "exception": false,
     "start_time": "2023-06-29T13:21:42.023281",
     "status": "completed"
    },
    "tags": []
   },
   "source": [
    "You notice that it doesn't use the standard UTF-8 encoding. \n",
    "\n",
    "Use the next code cell to create a variable `new_entry` that changes the encoding from `\"big5-tw\"` to `\"utf-8\"`.  `new_entry` should have the bytes datatype."
   ]
  },
  {
   "cell_type": "code",
   "execution_count": 4,
   "id": "a56fc7fe",
   "metadata": {
    "execution": {
     "iopub.execute_input": "2023-06-29T13:21:42.043404Z",
     "iopub.status.busy": "2023-06-29T13:21:42.043048Z",
     "iopub.status.idle": "2023-06-29T13:21:42.052806Z",
     "shell.execute_reply": "2023-06-29T13:21:42.051703Z"
    },
    "papermill": {
     "duration": 0.019407,
     "end_time": "2023-06-29T13:21:42.054880",
     "exception": false,
     "start_time": "2023-06-29T13:21:42.035473",
     "status": "completed"
    },
    "tags": []
   },
   "outputs": [
    {
     "data": {
      "application/javascript": [
       "parent.postMessage({\"jupyterEvent\": \"custom.exercise_interaction\", \"data\": {\"outcomeType\": 1, \"valueTowardsCompletion\": 0.3333333333333333, \"interactionType\": 1, \"questionType\": 1, \"questionId\": \"1_EncodingsIntro\", \"learnToolsVersion\": \"0.3.4\", \"failureMessage\": \"\", \"exceptionClass\": \"\", \"trace\": \"\"}}, \"*\")"
      ],
      "text/plain": [
       "<IPython.core.display.Javascript object>"
      ]
     },
     "metadata": {},
     "output_type": "display_data"
    },
    {
     "data": {
      "text/markdown": [
       "<span style=\"color:#33cc33\">Correct</span>"
      ],
      "text/plain": [
       "Correct"
      ]
     },
     "metadata": {},
     "output_type": "display_data"
    }
   ],
   "source": [
    "before = sample_entry.decode(\"big5-tw\")\n",
    "new_entry = before.encode()\n",
    "\n",
    "# Check your answer\n",
    "q1.check()"
   ]
  },
  {
   "cell_type": "code",
   "execution_count": 5,
   "id": "1d694ee2",
   "metadata": {
    "execution": {
     "iopub.execute_input": "2023-06-29T13:21:42.069445Z",
     "iopub.status.busy": "2023-06-29T13:21:42.069087Z",
     "iopub.status.idle": "2023-06-29T13:21:42.073343Z",
     "shell.execute_reply": "2023-06-29T13:21:42.072272Z"
    },
    "papermill": {
     "duration": 0.014064,
     "end_time": "2023-06-29T13:21:42.075479",
     "exception": false,
     "start_time": "2023-06-29T13:21:42.061415",
     "status": "completed"
    },
    "tags": []
   },
   "outputs": [],
   "source": [
    "# Lines below will give you a hint or solution code\n",
    "#q1.hint()\n",
    "#q1.solution()"
   ]
  },
  {
   "cell_type": "markdown",
   "id": "b22027e3",
   "metadata": {
    "papermill": {
     "duration": 0.006129,
     "end_time": "2023-06-29T13:21:42.088141",
     "exception": false,
     "start_time": "2023-06-29T13:21:42.082012",
     "status": "completed"
    },
    "tags": []
   },
   "source": [
    "# 2) Reading in files with encoding problems\n",
    "\n",
    "Use the code cell below to read in this file at path `\"../input/fatal-police-shootings-in-the-us/PoliceKillingsUS.csv\"`.  \n",
    "\n",
    "Figure out what the correct encoding should be and read in the file to a DataFrame `police_killings`."
   ]
  },
  {
   "cell_type": "code",
   "execution_count": 6,
   "id": "256bc1df",
   "metadata": {
    "execution": {
     "iopub.execute_input": "2023-06-29T13:21:42.103166Z",
     "iopub.status.busy": "2023-06-29T13:21:42.102567Z",
     "iopub.status.idle": "2023-06-29T13:21:42.132171Z",
     "shell.execute_reply": "2023-06-29T13:21:42.131067Z"
    },
    "papermill": {
     "duration": 0.040083,
     "end_time": "2023-06-29T13:21:42.134752",
     "exception": false,
     "start_time": "2023-06-29T13:21:42.094669",
     "status": "completed"
    },
    "tags": []
   },
   "outputs": [
    {
     "data": {
      "application/javascript": [
       "parent.postMessage({\"jupyterEvent\": \"custom.exercise_interaction\", \"data\": {\"outcomeType\": 1, \"valueTowardsCompletion\": 0.3333333333333333, \"interactionType\": 1, \"questionType\": 1, \"questionId\": \"2_ReadIn\", \"learnToolsVersion\": \"0.3.4\", \"failureMessage\": \"\", \"exceptionClass\": \"\", \"trace\": \"\"}}, \"*\")"
      ],
      "text/plain": [
       "<IPython.core.display.Javascript object>"
      ]
     },
     "metadata": {},
     "output_type": "display_data"
    },
    {
     "data": {
      "text/markdown": [
       "<span style=\"color:#33cc33\">Correct</span>"
      ],
      "text/plain": [
       "Correct"
      ]
     },
     "metadata": {},
     "output_type": "display_data"
    }
   ],
   "source": [
    "# TODO: Load in the DataFrame correctly.\n",
    "police_killings = police_killings = pd.read_csv(\"../input/fatal-police-shootings-in-the-us/PoliceKillingsUS.csv\", encoding='Windows-1252')\n",
    "\n",
    "# Check your answer\n",
    "q2.check()"
   ]
  },
  {
   "cell_type": "markdown",
   "id": "5df490dc",
   "metadata": {
    "papermill": {
     "duration": 0.006747,
     "end_time": "2023-06-29T13:21:42.148275",
     "exception": false,
     "start_time": "2023-06-29T13:21:42.141528",
     "status": "completed"
    },
    "tags": []
   },
   "source": [
    "Feel free to use any additional code cells for supplemental work.  To get credit for finishing this question, you'll need to run `q2.check()` and get a result of **Correct**."
   ]
  },
  {
   "cell_type": "code",
   "execution_count": 7,
   "id": "c783db79",
   "metadata": {
    "execution": {
     "iopub.execute_input": "2023-06-29T13:21:42.163953Z",
     "iopub.status.busy": "2023-06-29T13:21:42.163568Z",
     "iopub.status.idle": "2023-06-29T13:21:42.168392Z",
     "shell.execute_reply": "2023-06-29T13:21:42.167264Z"
    },
    "papermill": {
     "duration": 0.015589,
     "end_time": "2023-06-29T13:21:42.170734",
     "exception": false,
     "start_time": "2023-06-29T13:21:42.155145",
     "status": "completed"
    },
    "tags": []
   },
   "outputs": [],
   "source": [
    "# (Optional) Use this code cell for any additional work."
   ]
  },
  {
   "cell_type": "code",
   "execution_count": 8,
   "id": "2073214e",
   "metadata": {
    "execution": {
     "iopub.execute_input": "2023-06-29T13:21:42.186700Z",
     "iopub.status.busy": "2023-06-29T13:21:42.186005Z",
     "iopub.status.idle": "2023-06-29T13:21:42.190988Z",
     "shell.execute_reply": "2023-06-29T13:21:42.189893Z"
    },
    "papermill": {
     "duration": 0.01539,
     "end_time": "2023-06-29T13:21:42.193297",
     "exception": false,
     "start_time": "2023-06-29T13:21:42.177907",
     "status": "completed"
    },
    "tags": []
   },
   "outputs": [],
   "source": [
    "# Lines below will give you a hint or solution code\n",
    "#q2.hint()\n",
    "#q2.solution()"
   ]
  },
  {
   "cell_type": "markdown",
   "id": "363d7079",
   "metadata": {
    "papermill": {
     "duration": 0.006422,
     "end_time": "2023-06-29T13:21:42.206560",
     "exception": false,
     "start_time": "2023-06-29T13:21:42.200138",
     "status": "completed"
    },
    "tags": []
   },
   "source": [
    "# 3) Saving your files with UTF-8 encoding\n",
    "\n",
    "Save a version of the police killings dataset to CSV with UTF-8 encoding.  Your answer will be marked correct after saving this file.  \n",
    "\n",
    "Note: When using the `to_csv()` method, supply only the name of the file (e.g., `\"my_file.csv\"`).  This saves the file at the filepath `\"/kaggle/working/my_file.csv\"`."
   ]
  },
  {
   "cell_type": "code",
   "execution_count": 9,
   "id": "4ab5e0dd",
   "metadata": {
    "execution": {
     "iopub.execute_input": "2023-06-29T13:21:42.222056Z",
     "iopub.status.busy": "2023-06-29T13:21:42.221609Z",
     "iopub.status.idle": "2023-06-29T13:21:42.277158Z",
     "shell.execute_reply": "2023-06-29T13:21:42.276067Z"
    },
    "papermill": {
     "duration": 0.066215,
     "end_time": "2023-06-29T13:21:42.279580",
     "exception": false,
     "start_time": "2023-06-29T13:21:42.213365",
     "status": "completed"
    },
    "tags": []
   },
   "outputs": [
    {
     "data": {
      "application/javascript": [
       "parent.postMessage({\"jupyterEvent\": \"custom.exercise_interaction\", \"data\": {\"outcomeType\": 1, \"valueTowardsCompletion\": 0.3333333333333333, \"interactionType\": 1, \"questionType\": 2, \"questionId\": \"3_SaveCSV\", \"learnToolsVersion\": \"0.3.4\", \"failureMessage\": \"\", \"exceptionClass\": \"\", \"trace\": \"\"}}, \"*\")"
      ],
      "text/plain": [
       "<IPython.core.display.Javascript object>"
      ]
     },
     "metadata": {},
     "output_type": "display_data"
    },
    {
     "data": {
      "text/markdown": [
       "<span style=\"color:#33cc33\">Correct</span>"
      ],
      "text/plain": [
       "Correct"
      ]
     },
     "metadata": {},
     "output_type": "display_data"
    }
   ],
   "source": [
    "# TODO: Save the police killings dataset to CSV\n",
    "police_killings.to_csv(\"my_file.csv\")\n",
    "\n",
    "# Check your answer\n",
    "q3.check()"
   ]
  },
  {
   "cell_type": "code",
   "execution_count": 10,
   "id": "8e87c54a",
   "metadata": {
    "execution": {
     "iopub.execute_input": "2023-06-29T13:21:42.295693Z",
     "iopub.status.busy": "2023-06-29T13:21:42.295360Z",
     "iopub.status.idle": "2023-06-29T13:21:42.299666Z",
     "shell.execute_reply": "2023-06-29T13:21:42.298428Z"
    },
    "papermill": {
     "duration": 0.015016,
     "end_time": "2023-06-29T13:21:42.301817",
     "exception": false,
     "start_time": "2023-06-29T13:21:42.286801",
     "status": "completed"
    },
    "tags": []
   },
   "outputs": [],
   "source": [
    "# Lines below will give you a hint or solution code\n",
    "#q3.hint()\n",
    "#q3.solution()"
   ]
  },
  {
   "cell_type": "markdown",
   "id": "a428dd2a",
   "metadata": {
    "papermill": {
     "duration": 0.006774,
     "end_time": "2023-06-29T13:21:42.315872",
     "exception": false,
     "start_time": "2023-06-29T13:21:42.309098",
     "status": "completed"
    },
    "tags": []
   },
   "source": [
    "# (Optional) More practice\n",
    "\n",
    "Check out [this dataset of files in different character encodings](https://www.kaggle.com/rtatman/character-encoding-examples). Can you read in all the files with their original encodings and them save them out as UTF-8 files?\n",
    "\n",
    "If you have a file that's in UTF-8 but has just a couple of weird-looking characters in it, you can try out the [ftfy module](https://ftfy.readthedocs.io/en/latest/#) and see if it helps. \n",
    "\n",
    "# Keep going\n",
    "\n",
    "In the final lesson, learn how to [**clean up inconsistent text entries**](https://www.kaggle.com/alexisbcook/inconsistent-data-entry) in your dataset."
   ]
  },
  {
   "cell_type": "markdown",
   "id": "fd18aca3",
   "metadata": {
    "papermill": {
     "duration": 0.006824,
     "end_time": "2023-06-29T13:21:42.330053",
     "exception": false,
     "start_time": "2023-06-29T13:21:42.323229",
     "status": "completed"
    },
    "tags": []
   },
   "source": [
    "---\n",
    "\n",
    "\n",
    "\n",
    "\n",
    "*Have questions or comments? Visit the [course discussion forum](https://www.kaggle.com/learn/data-cleaning/discussion) to chat with other learners.*"
   ]
  }
 ],
 "metadata": {
  "kernelspec": {
   "display_name": "Python 3",
   "language": "python",
   "name": "python3"
  },
  "language_info": {
   "codemirror_mode": {
    "name": "ipython",
    "version": 3
   },
   "file_extension": ".py",
   "mimetype": "text/x-python",
   "name": "python",
   "nbconvert_exporter": "python",
   "pygments_lexer": "ipython3",
   "version": "3.10.10"
  },
  "papermill": {
   "default_parameters": {},
   "duration": 13.144124,
   "end_time": "2023-06-29T13:21:43.161018",
   "environment_variables": {},
   "exception": null,
   "input_path": "__notebook__.ipynb",
   "output_path": "__notebook__.ipynb",
   "parameters": {},
   "start_time": "2023-06-29T13:21:30.016894",
   "version": "2.4.0"
  }
 },
 "nbformat": 4,
 "nbformat_minor": 5
}
