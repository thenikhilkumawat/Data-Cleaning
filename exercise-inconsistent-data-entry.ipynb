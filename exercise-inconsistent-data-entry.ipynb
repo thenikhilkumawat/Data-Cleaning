{
 "cells": [
  {
   "cell_type": "markdown",
   "id": "51811000",
   "metadata": {
    "papermill": {
     "duration": 0.005426,
     "end_time": "2023-06-29T13:23:23.320300",
     "exception": false,
     "start_time": "2023-06-29T13:23:23.314874",
     "status": "completed"
    },
    "tags": []
   },
   "source": [
    "**This notebook is an exercise in the [Data Cleaning](https://www.kaggle.com/learn/data-cleaning) course.  You can reference the tutorial at [this link](https://www.kaggle.com/alexisbcook/inconsistent-data-entry).**\n",
    "\n",
    "---\n"
   ]
  },
  {
   "cell_type": "markdown",
   "id": "0c92454e",
   "metadata": {
    "papermill": {
     "duration": 0.003974,
     "end_time": "2023-06-29T13:23:23.328962",
     "exception": false,
     "start_time": "2023-06-29T13:23:23.324988",
     "status": "completed"
    },
    "tags": []
   },
   "source": [
    "In this exercise, you'll apply what you learned in the **Inconsistent data entry** tutorial.\n",
    "\n",
    "# Setup\n",
    "\n",
    "The questions below will give you feedback on your work. Run the following cell to set up the feedback system."
   ]
  },
  {
   "cell_type": "code",
   "execution_count": 1,
   "id": "529a35ac",
   "metadata": {
    "execution": {
     "iopub.execute_input": "2023-06-29T13:23:23.338827Z",
     "iopub.status.busy": "2023-06-29T13:23:23.338457Z",
     "iopub.status.idle": "2023-06-29T13:23:23.537269Z",
     "shell.execute_reply": "2023-06-29T13:23:23.536355Z"
    },
    "papermill": {
     "duration": 0.206273,
     "end_time": "2023-06-29T13:23:23.539507",
     "exception": false,
     "start_time": "2023-06-29T13:23:23.333234",
     "status": "completed"
    },
    "tags": []
   },
   "outputs": [
    {
     "name": "stdout",
     "output_type": "stream",
     "text": [
      "Setup Complete\n"
     ]
    }
   ],
   "source": [
    "from learntools.core import binder\n",
    "binder.bind(globals())\n",
    "from learntools.data_cleaning.ex5 import *\n",
    "print(\"Setup Complete\")"
   ]
  },
  {
   "cell_type": "markdown",
   "id": "a636e114",
   "metadata": {
    "papermill": {
     "duration": 0.004177,
     "end_time": "2023-06-29T13:23:23.548187",
     "exception": false,
     "start_time": "2023-06-29T13:23:23.544010",
     "status": "completed"
    },
    "tags": []
   },
   "source": [
    "# Get our environment set up\n",
    "\n",
    "The first thing we'll need to do is load in the libraries and dataset we'll be using.  We use the same dataset from the tutorial."
   ]
  },
  {
   "cell_type": "code",
   "execution_count": 2,
   "id": "f68efce5",
   "metadata": {
    "execution": {
     "iopub.execute_input": "2023-06-29T13:23:23.559185Z",
     "iopub.status.busy": "2023-06-29T13:23:23.558221Z",
     "iopub.status.idle": "2023-06-29T13:23:23.573072Z",
     "shell.execute_reply": "2023-06-29T13:23:23.572125Z"
    },
    "papermill": {
     "duration": 0.023132,
     "end_time": "2023-06-29T13:23:23.575740",
     "exception": false,
     "start_time": "2023-06-29T13:23:23.552608",
     "status": "completed"
    },
    "tags": []
   },
   "outputs": [],
   "source": [
    "# modules we'll use\n",
    "import pandas as pd\n",
    "import numpy as np\n",
    "\n",
    "# helpful modules\n",
    "import fuzzywuzzy\n",
    "from fuzzywuzzy import process\n",
    "import charset_normalizer\n",
    "\n",
    "# read in all our data\n",
    "professors = pd.read_csv(\"../input/pakistan-intellectual-capital/pakistan_intellectual_capital.csv\")\n",
    "\n",
    "# set seed for reproducibility\n",
    "np.random.seed(0)"
   ]
  },
  {
   "cell_type": "markdown",
   "id": "f539047b",
   "metadata": {
    "papermill": {
     "duration": 0.006217,
     "end_time": "2023-06-29T13:23:23.586742",
     "exception": false,
     "start_time": "2023-06-29T13:23:23.580525",
     "status": "completed"
    },
    "tags": []
   },
   "source": [
    "Next, we'll redo all of the work that we did in the tutorial."
   ]
  },
  {
   "cell_type": "code",
   "execution_count": 3,
   "id": "c97c7600",
   "metadata": {
    "execution": {
     "iopub.execute_input": "2023-06-29T13:23:23.597961Z",
     "iopub.status.busy": "2023-06-29T13:23:23.597331Z",
     "iopub.status.idle": "2023-06-29T13:23:23.610981Z",
     "shell.execute_reply": "2023-06-29T13:23:23.609528Z"
    },
    "papermill": {
     "duration": 0.021669,
     "end_time": "2023-06-29T13:23:23.613067",
     "exception": false,
     "start_time": "2023-06-29T13:23:23.591398",
     "status": "completed"
    },
    "tags": []
   },
   "outputs": [
    {
     "name": "stdout",
     "output_type": "stream",
     "text": [
      "All done!\n"
     ]
    }
   ],
   "source": [
    "# convert to lower case\n",
    "professors['Country'] = professors['Country'].str.lower()\n",
    "# remove trailing white spaces\n",
    "professors['Country'] = professors['Country'].str.strip()\n",
    "\n",
    "# get the top 10 closest matches to \"south korea\"\n",
    "countries = professors['Country'].unique()\n",
    "matches = fuzzywuzzy.process.extract(\"south korea\", countries, limit=10, scorer=fuzzywuzzy.fuzz.token_sort_ratio)\n",
    "\n",
    "def replace_matches_in_column(df, column, string_to_match, min_ratio = 47):\n",
    "    # get a list of unique strings\n",
    "    strings = df[column].unique()\n",
    "    \n",
    "    # get the top 10 closest matches to our input string\n",
    "    matches = fuzzywuzzy.process.extract(string_to_match, strings, \n",
    "                                         limit=10, scorer=fuzzywuzzy.fuzz.token_sort_ratio)\n",
    "\n",
    "    # only get matches with a ratio > 90\n",
    "    close_matches = [matches[0] for matches in matches if matches[1] >= min_ratio]\n",
    "\n",
    "    # get the rows of all the close matches in our dataframe\n",
    "    rows_with_matches = df[column].isin(close_matches)\n",
    "\n",
    "    # replace all rows with close matches with the input matches \n",
    "    df.loc[rows_with_matches, column] = string_to_match\n",
    "    \n",
    "    # let us know the function's done\n",
    "    print(\"All done!\")\n",
    "    \n",
    "replace_matches_in_column(df=professors, column='Country', string_to_match=\"south korea\")\n",
    "countries = professors['Country'].unique()"
   ]
  },
  {
   "cell_type": "markdown",
   "id": "e0d50c1a",
   "metadata": {
    "papermill": {
     "duration": 0.004452,
     "end_time": "2023-06-29T13:23:23.622205",
     "exception": false,
     "start_time": "2023-06-29T13:23:23.617753",
     "status": "completed"
    },
    "tags": []
   },
   "source": [
    "# 1) Examine another column\n",
    "\n",
    "Write code below to take a look at all the unique values in the \"Graduated from\" column."
   ]
  },
  {
   "cell_type": "code",
   "execution_count": 4,
   "id": "dfa74080",
   "metadata": {
    "execution": {
     "iopub.execute_input": "2023-06-29T13:23:23.633607Z",
     "iopub.status.busy": "2023-06-29T13:23:23.632637Z",
     "iopub.status.idle": "2023-06-29T13:23:23.638003Z",
     "shell.execute_reply": "2023-06-29T13:23:23.637083Z"
    },
    "papermill": {
     "duration": 0.01318,
     "end_time": "2023-06-29T13:23:23.639976",
     "exception": false,
     "start_time": "2023-06-29T13:23:23.626796",
     "status": "completed"
    },
    "tags": []
   },
   "outputs": [],
   "source": [
    "# TODO: Your code here\n",
    "unis = professors['Graduated from'].unique()"
   ]
  },
  {
   "cell_type": "markdown",
   "id": "50b6f718",
   "metadata": {
    "papermill": {
     "duration": 0.004429,
     "end_time": "2023-06-29T13:23:23.649145",
     "exception": false,
     "start_time": "2023-06-29T13:23:23.644716",
     "status": "completed"
    },
    "tags": []
   },
   "source": [
    "Do you notice any inconsistencies in the data?  Can any of the inconsistencies in the data be fixed by removing white spaces at the beginning and end of cells?\n",
    "\n",
    "Once you have answered these questions, run the code cell below to get credit for your work."
   ]
  },
  {
   "cell_type": "code",
   "execution_count": 5,
   "id": "bce19728",
   "metadata": {
    "execution": {
     "iopub.execute_input": "2023-06-29T13:23:23.660955Z",
     "iopub.status.busy": "2023-06-29T13:23:23.660373Z",
     "iopub.status.idle": "2023-06-29T13:23:23.666723Z",
     "shell.execute_reply": "2023-06-29T13:23:23.666177Z"
    },
    "papermill": {
     "duration": 0.014821,
     "end_time": "2023-06-29T13:23:23.669150",
     "exception": false,
     "start_time": "2023-06-29T13:23:23.654329",
     "status": "completed"
    },
    "tags": []
   },
   "outputs": [
    {
     "data": {
      "application/javascript": [
       "parent.postMessage({\"jupyterEvent\": \"custom.exercise_interaction\", \"data\": {\"outcomeType\": 1, \"valueTowardsCompletion\": 0.3333333333333333, \"interactionType\": 1, \"questionType\": 4, \"questionId\": \"1_ExamineProvince\", \"learnToolsVersion\": \"0.3.4\", \"failureMessage\": \"\", \"exceptionClass\": \"\", \"trace\": \"\"}}, \"*\")"
      ],
      "text/plain": [
       "<IPython.core.display.Javascript object>"
      ]
     },
     "metadata": {},
     "output_type": "display_data"
    },
    {
     "data": {
      "text/markdown": [
       "<span style=\"color:#33cc33\">Correct:</span> \n",
       "\n",
       "There are inconsistencies that can be fixed by removing white spaces at the beginning and end of cells.  For instance, \"University of Central Florida\" and \" University of Central Florida\" both appear in the column."
      ],
      "text/plain": [
       "Correct: \n",
       "\n",
       "There are inconsistencies that can be fixed by removing white spaces at the beginning and end of cells.  For instance, \"University of Central Florida\" and \" University of Central Florida\" both appear in the column."
      ]
     },
     "metadata": {},
     "output_type": "display_data"
    }
   ],
   "source": [
    "# Check your answer (Run this code cell to receive credit!)\n",
    "q1.check()"
   ]
  },
  {
   "cell_type": "code",
   "execution_count": 6,
   "id": "496695e2",
   "metadata": {
    "execution": {
     "iopub.execute_input": "2023-06-29T13:23:23.680998Z",
     "iopub.status.busy": "2023-06-29T13:23:23.680427Z",
     "iopub.status.idle": "2023-06-29T13:23:23.688243Z",
     "shell.execute_reply": "2023-06-29T13:23:23.687269Z"
    },
    "papermill": {
     "duration": 0.016068,
     "end_time": "2023-06-29T13:23:23.690307",
     "exception": false,
     "start_time": "2023-06-29T13:23:23.674239",
     "status": "completed"
    },
    "tags": []
   },
   "outputs": [
    {
     "data": {
      "application/javascript": [
       "parent.postMessage({\"jupyterEvent\": \"custom.exercise_interaction\", \"data\": {\"interactionType\": 2, \"questionType\": 4, \"questionId\": \"1_ExamineProvince\", \"learnToolsVersion\": \"0.3.4\", \"valueTowardsCompletion\": 0.0, \"failureMessage\": \"\", \"exceptionClass\": \"\", \"trace\": \"\", \"outcomeType\": 4}}, \"*\")"
      ],
      "text/plain": [
       "<IPython.core.display.Javascript object>"
      ]
     },
     "metadata": {},
     "output_type": "display_data"
    },
    {
     "data": {
      "text/markdown": [
       "<span style=\"color:#3366cc\">Hint:</span> Use `unis = professors['Graduated from'].unique()` to take a look at the unique values in the 'Graduated from' column. You may find it useful to sort the data before printing it."
      ],
      "text/plain": [
       "Hint: Use `unis = professors['Graduated from'].unique()` to take a look at the unique values in the 'Graduated from' column. You may find it useful to sort the data before printing it."
      ]
     },
     "metadata": {},
     "output_type": "display_data"
    }
   ],
   "source": [
    "# Line below will give you a hint\n",
    "q1.hint()"
   ]
  },
  {
   "cell_type": "markdown",
   "id": "3fe57d62",
   "metadata": {
    "papermill": {
     "duration": 0.004798,
     "end_time": "2023-06-29T13:23:23.700543",
     "exception": false,
     "start_time": "2023-06-29T13:23:23.695745",
     "status": "completed"
    },
    "tags": []
   },
   "source": [
    "# 2) Do some text pre-processing\n",
    "\n",
    "Convert every entry in the \"Graduated from\" column in the `professors` DataFrame to remove white spaces at the beginning and end of cells."
   ]
  },
  {
   "cell_type": "code",
   "execution_count": 7,
   "id": "58339387",
   "metadata": {
    "execution": {
     "iopub.execute_input": "2023-06-29T13:23:23.713228Z",
     "iopub.status.busy": "2023-06-29T13:23:23.712255Z",
     "iopub.status.idle": "2023-06-29T13:23:23.725423Z",
     "shell.execute_reply": "2023-06-29T13:23:23.724307Z"
    },
    "papermill": {
     "duration": 0.021376,
     "end_time": "2023-06-29T13:23:23.727053",
     "exception": false,
     "start_time": "2023-06-29T13:23:23.705677",
     "status": "completed"
    },
    "tags": []
   },
   "outputs": [
    {
     "data": {
      "application/javascript": [
       "parent.postMessage({\"jupyterEvent\": \"custom.exercise_interaction\", \"data\": {\"outcomeType\": 1, \"valueTowardsCompletion\": 0.3333333333333333, \"interactionType\": 1, \"questionType\": 1, \"questionId\": \"2_TextProcessing\", \"learnToolsVersion\": \"0.3.4\", \"failureMessage\": \"\", \"exceptionClass\": \"\", \"trace\": \"\"}}, \"*\")"
      ],
      "text/plain": [
       "<IPython.core.display.Javascript object>"
      ]
     },
     "metadata": {},
     "output_type": "display_data"
    },
    {
     "data": {
      "text/markdown": [
       "<span style=\"color:#33cc33\">Correct</span>"
      ],
      "text/plain": [
       "Correct"
      ]
     },
     "metadata": {},
     "output_type": "display_data"
    }
   ],
   "source": [
    "# TODO: Your code here\n",
    "professors['Graduated from'] = professors['Graduated from'].str.strip()\n",
    "\n",
    "# Check your answer\n",
    "q2.check()"
   ]
  },
  {
   "cell_type": "code",
   "execution_count": 8,
   "id": "3c7977a3",
   "metadata": {
    "execution": {
     "iopub.execute_input": "2023-06-29T13:23:23.739321Z",
     "iopub.status.busy": "2023-06-29T13:23:23.738465Z",
     "iopub.status.idle": "2023-06-29T13:23:23.742634Z",
     "shell.execute_reply": "2023-06-29T13:23:23.741761Z"
    },
    "papermill": {
     "duration": 0.012704,
     "end_time": "2023-06-29T13:23:23.744935",
     "exception": false,
     "start_time": "2023-06-29T13:23:23.732231",
     "status": "completed"
    },
    "tags": []
   },
   "outputs": [],
   "source": [
    "# Lines below will give you a hint or solution code\n",
    "#q2.hint()\n",
    "#q2.solution()"
   ]
  },
  {
   "cell_type": "markdown",
   "id": "98cd4181",
   "metadata": {
    "papermill": {
     "duration": 0.00461,
     "end_time": "2023-06-29T13:23:23.754719",
     "exception": false,
     "start_time": "2023-06-29T13:23:23.750109",
     "status": "completed"
    },
    "tags": []
   },
   "source": [
    "# 3) Continue working with countries\n",
    "\n",
    "In the tutorial, we focused on cleaning up inconsistencies in the \"Country\" column.  Run the code cell below to view the list of unique values that we ended with."
   ]
  },
  {
   "cell_type": "code",
   "execution_count": 9,
   "id": "385e436e",
   "metadata": {
    "execution": {
     "iopub.execute_input": "2023-06-29T13:23:23.766201Z",
     "iopub.status.busy": "2023-06-29T13:23:23.765837Z",
     "iopub.status.idle": "2023-06-29T13:23:23.773160Z",
     "shell.execute_reply": "2023-06-29T13:23:23.771805Z"
    },
    "papermill": {
     "duration": 0.01538,
     "end_time": "2023-06-29T13:23:23.774985",
     "exception": false,
     "start_time": "2023-06-29T13:23:23.759605",
     "status": "completed"
    },
    "tags": []
   },
   "outputs": [
    {
     "data": {
      "text/plain": [
       "array(['australia', 'austria', 'canada', 'china', 'finland', 'france',\n",
       "       'germany', 'greece', 'hongkong', 'ireland', 'italy', 'japan',\n",
       "       'macau', 'malaysia', 'mauritius', 'netherland', 'new zealand',\n",
       "       'norway', 'pakistan', 'portugal', 'russian federation',\n",
       "       'saudi arabia', 'scotland', 'singapore', 'south korea', 'spain',\n",
       "       'sweden', 'thailand', 'turkey', 'uk', 'urbana', 'usa', 'usofa'],\n",
       "      dtype=object)"
      ]
     },
     "execution_count": 9,
     "metadata": {},
     "output_type": "execute_result"
    }
   ],
   "source": [
    "# get all the unique values in the 'City' column\n",
    "countries = professors['Country'].unique()\n",
    "\n",
    "# sort them alphabetically and then take a closer look\n",
    "countries.sort()\n",
    "countries"
   ]
  },
  {
   "cell_type": "markdown",
   "id": "733ccaf8",
   "metadata": {
    "papermill": {
     "duration": 0.004861,
     "end_time": "2023-06-29T13:23:23.785073",
     "exception": false,
     "start_time": "2023-06-29T13:23:23.780212",
     "status": "completed"
    },
    "tags": []
   },
   "source": [
    "Take another look at the \"Country\" column and see if there's any more data cleaning we need to do.\n",
    "\n",
    "It looks like 'usa' and 'usofa' should be the same country.  Correct the \"Country\" column in the dataframe to replace 'usofa' with 'usa'.\n",
    "\n",
    "**Use the most recent version of the DataFrame (with the whitespaces at the beginning and end of cells removed) from question 2.**"
   ]
  },
  {
   "cell_type": "code",
   "execution_count": 10,
   "id": "7c958c7c",
   "metadata": {
    "execution": {
     "iopub.execute_input": "2023-06-29T13:23:23.798878Z",
     "iopub.status.busy": "2023-06-29T13:23:23.798495Z",
     "iopub.status.idle": "2023-06-29T13:23:23.811486Z",
     "shell.execute_reply": "2023-06-29T13:23:23.810141Z"
    },
    "papermill": {
     "duration": 0.022558,
     "end_time": "2023-06-29T13:23:23.813912",
     "exception": false,
     "start_time": "2023-06-29T13:23:23.791354",
     "status": "completed"
    },
    "tags": []
   },
   "outputs": [
    {
     "name": "stdout",
     "output_type": "stream",
     "text": [
      "All done!\n"
     ]
    },
    {
     "data": {
      "application/javascript": [
       "parent.postMessage({\"jupyterEvent\": \"custom.exercise_interaction\", \"data\": {\"outcomeType\": 1, \"valueTowardsCompletion\": 0.3333333333333333, \"interactionType\": 1, \"questionType\": 1, \"questionId\": \"3_WorkingWithCities\", \"learnToolsVersion\": \"0.3.4\", \"failureMessage\": \"\", \"exceptionClass\": \"\", \"trace\": \"\"}}, \"*\")"
      ],
      "text/plain": [
       "<IPython.core.display.Javascript object>"
      ]
     },
     "metadata": {},
     "output_type": "display_data"
    },
    {
     "data": {
      "text/markdown": [
       "<span style=\"color:#33cc33\">Correct</span>"
      ],
      "text/plain": [
       "Correct"
      ]
     },
     "metadata": {},
     "output_type": "display_data"
    }
   ],
   "source": [
    "# TODO: Your code here!\n",
    "matches = fuzzywuzzy.process.extract(\"usa\", countries, limit=10, scorer=fuzzywuzzy.fuzz.token_sort_ratio)\n",
    "replace_matches_in_column(df=professors, column='Country', string_to_match=\"usa\", min_ratio=70)\n",
    "\n",
    "# Check your answer\n",
    "q3.check()"
   ]
  },
  {
   "cell_type": "code",
   "execution_count": 11,
   "id": "3c615924",
   "metadata": {
    "execution": {
     "iopub.execute_input": "2023-06-29T13:23:23.826548Z",
     "iopub.status.busy": "2023-06-29T13:23:23.826212Z",
     "iopub.status.idle": "2023-06-29T13:23:23.830573Z",
     "shell.execute_reply": "2023-06-29T13:23:23.829156Z"
    },
    "papermill": {
     "duration": 0.013354,
     "end_time": "2023-06-29T13:23:23.832917",
     "exception": false,
     "start_time": "2023-06-29T13:23:23.819563",
     "status": "completed"
    },
    "tags": []
   },
   "outputs": [],
   "source": [
    "# Lines below will give you a hint or solution code\n",
    "#q3.hint()\n",
    "#q3.solution()"
   ]
  },
  {
   "cell_type": "markdown",
   "id": "2be2df1e",
   "metadata": {
    "papermill": {
     "duration": 0.005229,
     "end_time": "2023-06-29T13:23:23.843865",
     "exception": false,
     "start_time": "2023-06-29T13:23:23.838636",
     "status": "completed"
    },
    "tags": []
   },
   "source": [
    "# Congratulations!\n",
    "\n",
    "Congratulations for completing the **Data Cleaning** course on Kaggle Learn!\n",
    "\n",
    "To practice your new skills, you're encouraged to download and investigate some of [Kaggle's Datasets](https://www.kaggle.com/datasets)."
   ]
  },
  {
   "cell_type": "markdown",
   "id": "21d4680a",
   "metadata": {
    "papermill": {
     "duration": 0.005048,
     "end_time": "2023-06-29T13:23:23.854352",
     "exception": false,
     "start_time": "2023-06-29T13:23:23.849304",
     "status": "completed"
    },
    "tags": []
   },
   "source": [
    "---\n",
    "\n",
    "\n",
    "\n",
    "\n",
    "*Have questions or comments? Visit the [course discussion forum](https://www.kaggle.com/learn/data-cleaning/discussion) to chat with other learners.*"
   ]
  }
 ],
 "metadata": {
  "kernelspec": {
   "display_name": "Python 3",
   "language": "python",
   "name": "python3"
  },
  "language_info": {
   "codemirror_mode": {
    "name": "ipython",
    "version": 3
   },
   "file_extension": ".py",
   "mimetype": "text/x-python",
   "name": "python",
   "nbconvert_exporter": "python",
   "pygments_lexer": "ipython3",
   "version": "3.10.10"
  },
  "papermill": {
   "default_parameters": {},
   "duration": 10.368753,
   "end_time": "2023-06-29T13:23:24.681100",
   "environment_variables": {},
   "exception": null,
   "input_path": "__notebook__.ipynb",
   "output_path": "__notebook__.ipynb",
   "parameters": {},
   "start_time": "2023-06-29T13:23:14.312347",
   "version": "2.4.0"
  }
 },
 "nbformat": 4,
 "nbformat_minor": 5
}
