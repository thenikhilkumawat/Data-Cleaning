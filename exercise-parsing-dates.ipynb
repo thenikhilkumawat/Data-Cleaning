{
 "cells": [
  {
   "cell_type": "markdown",
   "id": "56b2e807",
   "metadata": {
    "papermill": {
     "duration": 0.011516,
     "end_time": "2023-06-29T13:20:02.171956",
     "exception": false,
     "start_time": "2023-06-29T13:20:02.160440",
     "status": "completed"
    },
    "tags": []
   },
   "source": [
    "**This notebook is an exercise in the [Data Cleaning](https://www.kaggle.com/learn/data-cleaning) course.  You can reference the tutorial at [this link](https://www.kaggle.com/alexisbcook/parsing-dates).**\n",
    "\n",
    "---\n"
   ]
  },
  {
   "cell_type": "markdown",
   "id": "aaaca951",
   "metadata": {
    "papermill": {
     "duration": 0.008981,
     "end_time": "2023-06-29T13:20:02.190782",
     "exception": false,
     "start_time": "2023-06-29T13:20:02.181801",
     "status": "completed"
    },
    "tags": []
   },
   "source": [
    "In this exercise, you'll apply what you learned in the **Parsing dates** tutorial.\n",
    "\n",
    "# Setup\n",
    "\n",
    "The questions below will give you feedback on your work. Run the following cell to set up the feedback system."
   ]
  },
  {
   "cell_type": "code",
   "execution_count": 1,
   "id": "7a1d7a00",
   "metadata": {
    "execution": {
     "iopub.execute_input": "2023-06-29T13:20:02.212357Z",
     "iopub.status.busy": "2023-06-29T13:20:02.211699Z",
     "iopub.status.idle": "2023-06-29T13:20:04.180519Z",
     "shell.execute_reply": "2023-06-29T13:20:04.179322Z"
    },
    "papermill": {
     "duration": 1.982525,
     "end_time": "2023-06-29T13:20:04.183262",
     "exception": false,
     "start_time": "2023-06-29T13:20:02.200737",
     "status": "completed"
    },
    "tags": []
   },
   "outputs": [
    {
     "name": "stdout",
     "output_type": "stream",
     "text": [
      "Setup Complete\n"
     ]
    }
   ],
   "source": [
    "from learntools.core import binder\n",
    "binder.bind(globals())\n",
    "from learntools.data_cleaning.ex3 import *\n",
    "print(\"Setup Complete\")"
   ]
  },
  {
   "cell_type": "markdown",
   "id": "443526ee",
   "metadata": {
    "papermill": {
     "duration": 0.009477,
     "end_time": "2023-06-29T13:20:04.202526",
     "exception": false,
     "start_time": "2023-06-29T13:20:04.193049",
     "status": "completed"
    },
    "tags": []
   },
   "source": [
    "# Get our environment set up\n",
    "\n",
    "The first thing we'll need to do is load in the libraries and dataset we'll be using. We'll be working with a dataset containing information on earthquakes that occured between 1965 and 2016."
   ]
  },
  {
   "cell_type": "code",
   "execution_count": 2,
   "id": "d8827c23",
   "metadata": {
    "execution": {
     "iopub.execute_input": "2023-06-29T13:20:04.224865Z",
     "iopub.status.busy": "2023-06-29T13:20:04.224250Z",
     "iopub.status.idle": "2023-06-29T13:20:04.339339Z",
     "shell.execute_reply": "2023-06-29T13:20:04.338329Z"
    },
    "papermill": {
     "duration": 0.129918,
     "end_time": "2023-06-29T13:20:04.341895",
     "exception": false,
     "start_time": "2023-06-29T13:20:04.211977",
     "status": "completed"
    },
    "tags": []
   },
   "outputs": [],
   "source": [
    "# modules we'll use\n",
    "import pandas as pd\n",
    "import numpy as np\n",
    "import seaborn as sns\n",
    "import datetime\n",
    "\n",
    "# read in our data\n",
    "earthquakes = pd.read_csv(\"../input/earthquake-database/database.csv\")\n",
    "\n",
    "# set seed for reproducibility\n",
    "np.random.seed(0)"
   ]
  },
  {
   "cell_type": "markdown",
   "id": "626d2aa5",
   "metadata": {
    "papermill": {
     "duration": 0.00901,
     "end_time": "2023-06-29T13:20:04.360415",
     "exception": false,
     "start_time": "2023-06-29T13:20:04.351405",
     "status": "completed"
    },
    "tags": []
   },
   "source": [
    "# 1) Check the data type of our date column\n",
    "\n",
    "You'll be working with the \"Date\" column from the `earthquakes` dataframe.  Investigate this column now: does it look like it contains dates?  What is the dtype of the column?"
   ]
  },
  {
   "cell_type": "code",
   "execution_count": 3,
   "id": "0c29216b",
   "metadata": {
    "execution": {
     "iopub.execute_input": "2023-06-29T13:20:04.381431Z",
     "iopub.status.busy": "2023-06-29T13:20:04.380831Z",
     "iopub.status.idle": "2023-06-29T13:20:04.388124Z",
     "shell.execute_reply": "2023-06-29T13:20:04.386923Z"
    },
    "papermill": {
     "duration": 0.021226,
     "end_time": "2023-06-29T13:20:04.391078",
     "exception": false,
     "start_time": "2023-06-29T13:20:04.369852",
     "status": "completed"
    },
    "tags": []
   },
   "outputs": [
    {
     "data": {
      "text/plain": [
       "dtype('O')"
      ]
     },
     "execution_count": 3,
     "metadata": {},
     "output_type": "execute_result"
    }
   ],
   "source": [
    "# TODO: Your code here!\n",
    "earthquakes['Date'].dtype"
   ]
  },
  {
   "cell_type": "markdown",
   "id": "5b3ed619",
   "metadata": {
    "papermill": {
     "duration": 0.009675,
     "end_time": "2023-06-29T13:20:04.410728",
     "exception": false,
     "start_time": "2023-06-29T13:20:04.401053",
     "status": "completed"
    },
    "tags": []
   },
   "source": [
    "Once you have answered the question above, run the code cell below to get credit for your work."
   ]
  },
  {
   "cell_type": "code",
   "execution_count": 4,
   "id": "4d0f3b5a",
   "metadata": {
    "execution": {
     "iopub.execute_input": "2023-06-29T13:20:04.434090Z",
     "iopub.status.busy": "2023-06-29T13:20:04.433410Z",
     "iopub.status.idle": "2023-06-29T13:20:04.444224Z",
     "shell.execute_reply": "2023-06-29T13:20:04.442842Z"
    },
    "papermill": {
     "duration": 0.025154,
     "end_time": "2023-06-29T13:20:04.446875",
     "exception": false,
     "start_time": "2023-06-29T13:20:04.421721",
     "status": "completed"
    },
    "tags": []
   },
   "outputs": [
    {
     "data": {
      "application/javascript": [
       "parent.postMessage({\"jupyterEvent\": \"custom.exercise_interaction\", \"data\": {\"outcomeType\": 1, \"valueTowardsCompletion\": 0.25, \"interactionType\": 1, \"questionType\": 4, \"questionId\": \"1_CheckDtype\", \"learnToolsVersion\": \"0.3.4\", \"failureMessage\": \"\", \"exceptionClass\": \"\", \"trace\": \"\"}}, \"*\")"
      ],
      "text/plain": [
       "<IPython.core.display.Javascript object>"
      ]
     },
     "metadata": {},
     "output_type": "display_data"
    },
    {
     "data": {
      "text/markdown": [
       "<span style=\"color:#33cc33\">Correct:</span> \n",
       "\n",
       "The \"Date\" column in the `earthquakes` DataFrame does have dates.  The dtype is \"object\"."
      ],
      "text/plain": [
       "Correct: \n",
       "\n",
       "The \"Date\" column in the `earthquakes` DataFrame does have dates.  The dtype is \"object\"."
      ]
     },
     "metadata": {},
     "output_type": "display_data"
    }
   ],
   "source": [
    "# Check your answer (Run this code cell to receive credit!)\n",
    "q1.check()"
   ]
  },
  {
   "cell_type": "code",
   "execution_count": 5,
   "id": "ada02598",
   "metadata": {
    "execution": {
     "iopub.execute_input": "2023-06-29T13:20:04.468631Z",
     "iopub.status.busy": "2023-06-29T13:20:04.468178Z",
     "iopub.status.idle": "2023-06-29T13:20:04.473281Z",
     "shell.execute_reply": "2023-06-29T13:20:04.472147Z"
    },
    "papermill": {
     "duration": 0.01889,
     "end_time": "2023-06-29T13:20:04.475694",
     "exception": false,
     "start_time": "2023-06-29T13:20:04.456804",
     "status": "completed"
    },
    "tags": []
   },
   "outputs": [],
   "source": [
    "# Line below will give you a hint\n",
    "#q1.hint()"
   ]
  },
  {
   "cell_type": "markdown",
   "id": "cec5d587",
   "metadata": {
    "papermill": {
     "duration": 0.009514,
     "end_time": "2023-06-29T13:20:04.495426",
     "exception": false,
     "start_time": "2023-06-29T13:20:04.485912",
     "status": "completed"
    },
    "tags": []
   },
   "source": [
    "# 2) Convert our date columns to datetime\n",
    "\n",
    "Most of the entries in the \"Date\" column follow the same format: \"month/day/four-digit year\".  However, the entry at index 3378 follows a completely different pattern.  Run the code cell below to see this."
   ]
  },
  {
   "cell_type": "code",
   "execution_count": 6,
   "id": "52592feb",
   "metadata": {
    "execution": {
     "iopub.execute_input": "2023-06-29T13:20:04.517456Z",
     "iopub.status.busy": "2023-06-29T13:20:04.517072Z",
     "iopub.status.idle": "2023-06-29T13:20:04.560467Z",
     "shell.execute_reply": "2023-06-29T13:20:04.559611Z"
    },
    "papermill": {
     "duration": 0.056928,
     "end_time": "2023-06-29T13:20:04.562721",
     "exception": false,
     "start_time": "2023-06-29T13:20:04.505793",
     "status": "completed"
    },
    "tags": []
   },
   "outputs": [
    {
     "data": {
      "text/html": [
       "<div>\n",
       "<style scoped>\n",
       "    .dataframe tbody tr th:only-of-type {\n",
       "        vertical-align: middle;\n",
       "    }\n",
       "\n",
       "    .dataframe tbody tr th {\n",
       "        vertical-align: top;\n",
       "    }\n",
       "\n",
       "    .dataframe thead th {\n",
       "        text-align: right;\n",
       "    }\n",
       "</style>\n",
       "<table border=\"1\" class=\"dataframe\">\n",
       "  <thead>\n",
       "    <tr style=\"text-align: right;\">\n",
       "      <th></th>\n",
       "      <th>Date</th>\n",
       "      <th>Time</th>\n",
       "      <th>Latitude</th>\n",
       "      <th>Longitude</th>\n",
       "      <th>Type</th>\n",
       "      <th>Depth</th>\n",
       "      <th>Depth Error</th>\n",
       "      <th>Depth Seismic Stations</th>\n",
       "      <th>Magnitude</th>\n",
       "      <th>Magnitude Type</th>\n",
       "      <th>...</th>\n",
       "      <th>Magnitude Seismic Stations</th>\n",
       "      <th>Azimuthal Gap</th>\n",
       "      <th>Horizontal Distance</th>\n",
       "      <th>Horizontal Error</th>\n",
       "      <th>Root Mean Square</th>\n",
       "      <th>ID</th>\n",
       "      <th>Source</th>\n",
       "      <th>Location Source</th>\n",
       "      <th>Magnitude Source</th>\n",
       "      <th>Status</th>\n",
       "    </tr>\n",
       "  </thead>\n",
       "  <tbody>\n",
       "    <tr>\n",
       "      <th>3378</th>\n",
       "      <td>1975-02-23T02:58:41.000Z</td>\n",
       "      <td>1975-02-23T02:58:41.000Z</td>\n",
       "      <td>8.017</td>\n",
       "      <td>124.075</td>\n",
       "      <td>Earthquake</td>\n",
       "      <td>623.0</td>\n",
       "      <td>NaN</td>\n",
       "      <td>NaN</td>\n",
       "      <td>5.6</td>\n",
       "      <td>MB</td>\n",
       "      <td>...</td>\n",
       "      <td>NaN</td>\n",
       "      <td>NaN</td>\n",
       "      <td>NaN</td>\n",
       "      <td>NaN</td>\n",
       "      <td>NaN</td>\n",
       "      <td>USP0000A09</td>\n",
       "      <td>US</td>\n",
       "      <td>US</td>\n",
       "      <td>US</td>\n",
       "      <td>Reviewed</td>\n",
       "    </tr>\n",
       "    <tr>\n",
       "      <th>3379</th>\n",
       "      <td>02/23/1975</td>\n",
       "      <td>03:53:36</td>\n",
       "      <td>-21.727</td>\n",
       "      <td>-71.356</td>\n",
       "      <td>Earthquake</td>\n",
       "      <td>33.0</td>\n",
       "      <td>NaN</td>\n",
       "      <td>NaN</td>\n",
       "      <td>5.6</td>\n",
       "      <td>MB</td>\n",
       "      <td>...</td>\n",
       "      <td>NaN</td>\n",
       "      <td>NaN</td>\n",
       "      <td>NaN</td>\n",
       "      <td>NaN</td>\n",
       "      <td>NaN</td>\n",
       "      <td>USP0000A0A</td>\n",
       "      <td>US</td>\n",
       "      <td>US</td>\n",
       "      <td>US</td>\n",
       "      <td>Reviewed</td>\n",
       "    </tr>\n",
       "    <tr>\n",
       "      <th>3380</th>\n",
       "      <td>02/23/1975</td>\n",
       "      <td>07:34:11</td>\n",
       "      <td>-10.879</td>\n",
       "      <td>166.667</td>\n",
       "      <td>Earthquake</td>\n",
       "      <td>33.0</td>\n",
       "      <td>NaN</td>\n",
       "      <td>NaN</td>\n",
       "      <td>5.5</td>\n",
       "      <td>MS</td>\n",
       "      <td>...</td>\n",
       "      <td>NaN</td>\n",
       "      <td>NaN</td>\n",
       "      <td>NaN</td>\n",
       "      <td>NaN</td>\n",
       "      <td>NaN</td>\n",
       "      <td>USP0000A0C</td>\n",
       "      <td>US</td>\n",
       "      <td>US</td>\n",
       "      <td>US</td>\n",
       "      <td>Reviewed</td>\n",
       "    </tr>\n",
       "    <tr>\n",
       "      <th>3381</th>\n",
       "      <td>02/25/1975</td>\n",
       "      <td>05:20:05</td>\n",
       "      <td>-7.388</td>\n",
       "      <td>149.798</td>\n",
       "      <td>Earthquake</td>\n",
       "      <td>33.0</td>\n",
       "      <td>NaN</td>\n",
       "      <td>NaN</td>\n",
       "      <td>5.5</td>\n",
       "      <td>MB</td>\n",
       "      <td>...</td>\n",
       "      <td>NaN</td>\n",
       "      <td>NaN</td>\n",
       "      <td>NaN</td>\n",
       "      <td>NaN</td>\n",
       "      <td>NaN</td>\n",
       "      <td>USP0000A12</td>\n",
       "      <td>US</td>\n",
       "      <td>US</td>\n",
       "      <td>US</td>\n",
       "      <td>Reviewed</td>\n",
       "    </tr>\n",
       "    <tr>\n",
       "      <th>3382</th>\n",
       "      <td>02/26/1975</td>\n",
       "      <td>04:48:55</td>\n",
       "      <td>85.047</td>\n",
       "      <td>97.969</td>\n",
       "      <td>Earthquake</td>\n",
       "      <td>33.0</td>\n",
       "      <td>NaN</td>\n",
       "      <td>NaN</td>\n",
       "      <td>5.6</td>\n",
       "      <td>MS</td>\n",
       "      <td>...</td>\n",
       "      <td>NaN</td>\n",
       "      <td>NaN</td>\n",
       "      <td>NaN</td>\n",
       "      <td>NaN</td>\n",
       "      <td>NaN</td>\n",
       "      <td>USP0000A1H</td>\n",
       "      <td>US</td>\n",
       "      <td>US</td>\n",
       "      <td>US</td>\n",
       "      <td>Reviewed</td>\n",
       "    </tr>\n",
       "  </tbody>\n",
       "</table>\n",
       "<p>5 rows × 21 columns</p>\n",
       "</div>"
      ],
      "text/plain": [
       "                          Date                      Time  Latitude  Longitude  \\\n",
       "3378  1975-02-23T02:58:41.000Z  1975-02-23T02:58:41.000Z     8.017    124.075   \n",
       "3379                02/23/1975                  03:53:36   -21.727    -71.356   \n",
       "3380                02/23/1975                  07:34:11   -10.879    166.667   \n",
       "3381                02/25/1975                  05:20:05    -7.388    149.798   \n",
       "3382                02/26/1975                  04:48:55    85.047     97.969   \n",
       "\n",
       "            Type  Depth  Depth Error  Depth Seismic Stations  Magnitude  \\\n",
       "3378  Earthquake  623.0          NaN                     NaN        5.6   \n",
       "3379  Earthquake   33.0          NaN                     NaN        5.6   \n",
       "3380  Earthquake   33.0          NaN                     NaN        5.5   \n",
       "3381  Earthquake   33.0          NaN                     NaN        5.5   \n",
       "3382  Earthquake   33.0          NaN                     NaN        5.6   \n",
       "\n",
       "     Magnitude Type  ...  Magnitude Seismic Stations  Azimuthal Gap  \\\n",
       "3378             MB  ...                         NaN            NaN   \n",
       "3379             MB  ...                         NaN            NaN   \n",
       "3380             MS  ...                         NaN            NaN   \n",
       "3381             MB  ...                         NaN            NaN   \n",
       "3382             MS  ...                         NaN            NaN   \n",
       "\n",
       "      Horizontal Distance  Horizontal Error  Root Mean Square          ID  \\\n",
       "3378                  NaN               NaN               NaN  USP0000A09   \n",
       "3379                  NaN               NaN               NaN  USP0000A0A   \n",
       "3380                  NaN               NaN               NaN  USP0000A0C   \n",
       "3381                  NaN               NaN               NaN  USP0000A12   \n",
       "3382                  NaN               NaN               NaN  USP0000A1H   \n",
       "\n",
       "     Source Location Source Magnitude Source    Status  \n",
       "3378     US              US               US  Reviewed  \n",
       "3379     US              US               US  Reviewed  \n",
       "3380     US              US               US  Reviewed  \n",
       "3381     US              US               US  Reviewed  \n",
       "3382     US              US               US  Reviewed  \n",
       "\n",
       "[5 rows x 21 columns]"
      ]
     },
     "execution_count": 6,
     "metadata": {},
     "output_type": "execute_result"
    }
   ],
   "source": [
    "earthquakes[3378:3383]"
   ]
  },
  {
   "cell_type": "markdown",
   "id": "b0e00fc2",
   "metadata": {
    "papermill": {
     "duration": 0.010693,
     "end_time": "2023-06-29T13:20:04.584311",
     "exception": false,
     "start_time": "2023-06-29T13:20:04.573618",
     "status": "completed"
    },
    "tags": []
   },
   "source": [
    "This does appear to be an issue with data entry: ideally, all entries in the column have the same format.  We can get an idea of how widespread this issue is by checking the length of each entry in the \"Date\" column."
   ]
  },
  {
   "cell_type": "code",
   "execution_count": 7,
   "id": "66a9e2f2",
   "metadata": {
    "execution": {
     "iopub.execute_input": "2023-06-29T13:20:04.607956Z",
     "iopub.status.busy": "2023-06-29T13:20:04.607464Z",
     "iopub.status.idle": "2023-06-29T13:20:04.640396Z",
     "shell.execute_reply": "2023-06-29T13:20:04.638803Z"
    },
    "papermill": {
     "duration": 0.048336,
     "end_time": "2023-06-29T13:20:04.643297",
     "exception": false,
     "start_time": "2023-06-29T13:20:04.594961",
     "status": "completed"
    },
    "tags": []
   },
   "outputs": [
    {
     "data": {
      "text/plain": [
       "10    23409\n",
       "24        3\n",
       "Name: Date, dtype: int64"
      ]
     },
     "execution_count": 7,
     "metadata": {},
     "output_type": "execute_result"
    }
   ],
   "source": [
    "date_lengths = earthquakes.Date.str.len()\n",
    "date_lengths.value_counts()"
   ]
  },
  {
   "cell_type": "markdown",
   "id": "d73935dd",
   "metadata": {
    "papermill": {
     "duration": 0.01012,
     "end_time": "2023-06-29T13:20:04.664171",
     "exception": false,
     "start_time": "2023-06-29T13:20:04.654051",
     "status": "completed"
    },
    "tags": []
   },
   "source": [
    "Looks like there are two more rows that has a date in a different format.  Run the code cell below to obtain the indices corresponding to those rows and print the data."
   ]
  },
  {
   "cell_type": "code",
   "execution_count": 8,
   "id": "12f1032c",
   "metadata": {
    "execution": {
     "iopub.execute_input": "2023-06-29T13:20:04.688962Z",
     "iopub.status.busy": "2023-06-29T13:20:04.688532Z",
     "iopub.status.idle": "2023-06-29T13:20:04.721580Z",
     "shell.execute_reply": "2023-06-29T13:20:04.720495Z"
    },
    "papermill": {
     "duration": 0.048217,
     "end_time": "2023-06-29T13:20:04.723866",
     "exception": false,
     "start_time": "2023-06-29T13:20:04.675649",
     "status": "completed"
    },
    "tags": []
   },
   "outputs": [
    {
     "name": "stdout",
     "output_type": "stream",
     "text": [
      "Indices with corrupted data: [ 3378  7512 20650]\n"
     ]
    },
    {
     "data": {
      "text/html": [
       "<div>\n",
       "<style scoped>\n",
       "    .dataframe tbody tr th:only-of-type {\n",
       "        vertical-align: middle;\n",
       "    }\n",
       "\n",
       "    .dataframe tbody tr th {\n",
       "        vertical-align: top;\n",
       "    }\n",
       "\n",
       "    .dataframe thead th {\n",
       "        text-align: right;\n",
       "    }\n",
       "</style>\n",
       "<table border=\"1\" class=\"dataframe\">\n",
       "  <thead>\n",
       "    <tr style=\"text-align: right;\">\n",
       "      <th></th>\n",
       "      <th>Date</th>\n",
       "      <th>Time</th>\n",
       "      <th>Latitude</th>\n",
       "      <th>Longitude</th>\n",
       "      <th>Type</th>\n",
       "      <th>Depth</th>\n",
       "      <th>Depth Error</th>\n",
       "      <th>Depth Seismic Stations</th>\n",
       "      <th>Magnitude</th>\n",
       "      <th>Magnitude Type</th>\n",
       "      <th>...</th>\n",
       "      <th>Magnitude Seismic Stations</th>\n",
       "      <th>Azimuthal Gap</th>\n",
       "      <th>Horizontal Distance</th>\n",
       "      <th>Horizontal Error</th>\n",
       "      <th>Root Mean Square</th>\n",
       "      <th>ID</th>\n",
       "      <th>Source</th>\n",
       "      <th>Location Source</th>\n",
       "      <th>Magnitude Source</th>\n",
       "      <th>Status</th>\n",
       "    </tr>\n",
       "  </thead>\n",
       "  <tbody>\n",
       "    <tr>\n",
       "      <th>3378</th>\n",
       "      <td>1975-02-23T02:58:41.000Z</td>\n",
       "      <td>1975-02-23T02:58:41.000Z</td>\n",
       "      <td>8.017</td>\n",
       "      <td>124.075</td>\n",
       "      <td>Earthquake</td>\n",
       "      <td>623.0</td>\n",
       "      <td>NaN</td>\n",
       "      <td>NaN</td>\n",
       "      <td>5.6</td>\n",
       "      <td>MB</td>\n",
       "      <td>...</td>\n",
       "      <td>NaN</td>\n",
       "      <td>NaN</td>\n",
       "      <td>NaN</td>\n",
       "      <td>NaN</td>\n",
       "      <td>NaN</td>\n",
       "      <td>USP0000A09</td>\n",
       "      <td>US</td>\n",
       "      <td>US</td>\n",
       "      <td>US</td>\n",
       "      <td>Reviewed</td>\n",
       "    </tr>\n",
       "    <tr>\n",
       "      <th>7512</th>\n",
       "      <td>1985-04-28T02:53:41.530Z</td>\n",
       "      <td>1985-04-28T02:53:41.530Z</td>\n",
       "      <td>-32.998</td>\n",
       "      <td>-71.766</td>\n",
       "      <td>Earthquake</td>\n",
       "      <td>33.0</td>\n",
       "      <td>NaN</td>\n",
       "      <td>NaN</td>\n",
       "      <td>5.6</td>\n",
       "      <td>MW</td>\n",
       "      <td>...</td>\n",
       "      <td>NaN</td>\n",
       "      <td>NaN</td>\n",
       "      <td>NaN</td>\n",
       "      <td>NaN</td>\n",
       "      <td>1.30</td>\n",
       "      <td>USP0002E81</td>\n",
       "      <td>US</td>\n",
       "      <td>US</td>\n",
       "      <td>HRV</td>\n",
       "      <td>Reviewed</td>\n",
       "    </tr>\n",
       "    <tr>\n",
       "      <th>20650</th>\n",
       "      <td>2011-03-13T02:23:34.520Z</td>\n",
       "      <td>2011-03-13T02:23:34.520Z</td>\n",
       "      <td>36.344</td>\n",
       "      <td>142.344</td>\n",
       "      <td>Earthquake</td>\n",
       "      <td>10.1</td>\n",
       "      <td>13.9</td>\n",
       "      <td>289.0</td>\n",
       "      <td>5.8</td>\n",
       "      <td>MWC</td>\n",
       "      <td>...</td>\n",
       "      <td>NaN</td>\n",
       "      <td>32.3</td>\n",
       "      <td>NaN</td>\n",
       "      <td>NaN</td>\n",
       "      <td>1.06</td>\n",
       "      <td>USP000HWQP</td>\n",
       "      <td>US</td>\n",
       "      <td>US</td>\n",
       "      <td>GCMT</td>\n",
       "      <td>Reviewed</td>\n",
       "    </tr>\n",
       "  </tbody>\n",
       "</table>\n",
       "<p>3 rows × 21 columns</p>\n",
       "</div>"
      ],
      "text/plain": [
       "                           Date                      Time  Latitude  \\\n",
       "3378   1975-02-23T02:58:41.000Z  1975-02-23T02:58:41.000Z     8.017   \n",
       "7512   1985-04-28T02:53:41.530Z  1985-04-28T02:53:41.530Z   -32.998   \n",
       "20650  2011-03-13T02:23:34.520Z  2011-03-13T02:23:34.520Z    36.344   \n",
       "\n",
       "       Longitude        Type  Depth  Depth Error  Depth Seismic Stations  \\\n",
       "3378     124.075  Earthquake  623.0          NaN                     NaN   \n",
       "7512     -71.766  Earthquake   33.0          NaN                     NaN   \n",
       "20650    142.344  Earthquake   10.1         13.9                   289.0   \n",
       "\n",
       "       Magnitude Magnitude Type  ...  Magnitude Seismic Stations  \\\n",
       "3378         5.6             MB  ...                         NaN   \n",
       "7512         5.6             MW  ...                         NaN   \n",
       "20650        5.8            MWC  ...                         NaN   \n",
       "\n",
       "       Azimuthal Gap  Horizontal Distance  Horizontal Error  Root Mean Square  \\\n",
       "3378             NaN                  NaN               NaN               NaN   \n",
       "7512             NaN                  NaN               NaN              1.30   \n",
       "20650           32.3                  NaN               NaN              1.06   \n",
       "\n",
       "               ID Source Location Source Magnitude Source    Status  \n",
       "3378   USP0000A09     US              US               US  Reviewed  \n",
       "7512   USP0002E81     US              US              HRV  Reviewed  \n",
       "20650  USP000HWQP     US              US             GCMT  Reviewed  \n",
       "\n",
       "[3 rows x 21 columns]"
      ]
     },
     "execution_count": 8,
     "metadata": {},
     "output_type": "execute_result"
    }
   ],
   "source": [
    "indices = np.where([date_lengths == 24])[1]\n",
    "print('Indices with corrupted data:', indices)\n",
    "earthquakes.loc[indices]"
   ]
  },
  {
   "cell_type": "markdown",
   "id": "6b94905d",
   "metadata": {
    "papermill": {
     "duration": 0.010665,
     "end_time": "2023-06-29T13:20:04.746109",
     "exception": false,
     "start_time": "2023-06-29T13:20:04.735444",
     "status": "completed"
    },
    "tags": []
   },
   "source": [
    "Given all of this information, it's your turn to create a new column \"date_parsed\" in the `earthquakes` dataset that has correctly parsed dates in it.  \n",
    "\n",
    "**Note**: When completing this problem, you are allowed to (but are not required to) amend the entries in the \"Date\" and \"Time\" columns.  Do not remove any rows from the dataset."
   ]
  },
  {
   "cell_type": "code",
   "execution_count": 9,
   "id": "9f20d7e3",
   "metadata": {
    "execution": {
     "iopub.execute_input": "2023-06-29T13:20:04.770210Z",
     "iopub.status.busy": "2023-06-29T13:20:04.769774Z",
     "iopub.status.idle": "2023-06-29T13:20:04.852394Z",
     "shell.execute_reply": "2023-06-29T13:20:04.851588Z"
    },
    "papermill": {
     "duration": 0.097089,
     "end_time": "2023-06-29T13:20:04.854611",
     "exception": false,
     "start_time": "2023-06-29T13:20:04.757522",
     "status": "completed"
    },
    "tags": []
   },
   "outputs": [
    {
     "data": {
      "application/javascript": [
       "parent.postMessage({\"jupyterEvent\": \"custom.exercise_interaction\", \"data\": {\"outcomeType\": 1, \"valueTowardsCompletion\": 0.25, \"interactionType\": 1, \"questionType\": 2, \"questionId\": \"2_ConvertToDatetime\", \"learnToolsVersion\": \"0.3.4\", \"failureMessage\": \"\", \"exceptionClass\": \"\", \"trace\": \"\"}}, \"*\")"
      ],
      "text/plain": [
       "<IPython.core.display.Javascript object>"
      ]
     },
     "metadata": {},
     "output_type": "display_data"
    },
    {
     "data": {
      "text/markdown": [
       "<span style=\"color:#33cc33\">Correct</span>"
      ],
      "text/plain": [
       "Correct"
      ]
     },
     "metadata": {},
     "output_type": "display_data"
    }
   ],
   "source": [
    "# TODO: Your code here\n",
    "earthquakes.loc[3378,\"Date\"] = \"02/23/1975\"\n",
    "earthquakes.loc[7512,\"Date\"] = \"04/28/1985\"\n",
    "earthquakes.loc[20650,\"Date\"] = \"03/13/2011\"\n",
    "\n",
    "earthquakes['date_parsed'] = pd.to_datetime(earthquakes['Date'], format=\"%m/%d/%Y\")  \n",
    "# Check your answer\n",
    "q2.check()"
   ]
  },
  {
   "cell_type": "code",
   "execution_count": 10,
   "id": "51e0d35f",
   "metadata": {
    "execution": {
     "iopub.execute_input": "2023-06-29T13:20:04.878810Z",
     "iopub.status.busy": "2023-06-29T13:20:04.878404Z",
     "iopub.status.idle": "2023-06-29T13:20:04.890691Z",
     "shell.execute_reply": "2023-06-29T13:20:04.889511Z"
    },
    "papermill": {
     "duration": 0.027905,
     "end_time": "2023-06-29T13:20:04.893710",
     "exception": false,
     "start_time": "2023-06-29T13:20:04.865805",
     "status": "completed"
    },
    "tags": []
   },
   "outputs": [
    {
     "data": {
      "application/javascript": [
       "parent.postMessage({\"jupyterEvent\": \"custom.exercise_interaction\", \"data\": {\"interactionType\": 2, \"questionType\": 2, \"questionId\": \"2_ConvertToDatetime\", \"learnToolsVersion\": \"0.3.4\", \"valueTowardsCompletion\": 0.0, \"failureMessage\": \"\", \"exceptionClass\": \"\", \"trace\": \"\", \"outcomeType\": 4}}, \"*\")"
      ],
      "text/plain": [
       "<IPython.core.display.Javascript object>"
      ]
     },
     "metadata": {},
     "output_type": "display_data"
    },
    {
     "data": {
      "text/markdown": [
       "<span style=\"color:#3366cc\">Hint:</span> Since there are only three rows with a fancy type, you might consider manually editing them. For instance, you can begin by setting `earthquakes.loc[3378, \"Date\"] = \"02/23/1975\"`."
      ],
      "text/plain": [
       "Hint: Since there are only three rows with a fancy type, you might consider manually editing them. For instance, you can begin by setting `earthquakes.loc[3378, \"Date\"] = \"02/23/1975\"`."
      ]
     },
     "metadata": {},
     "output_type": "display_data"
    },
    {
     "data": {
      "application/javascript": [
       "parent.postMessage({\"jupyterEvent\": \"custom.exercise_interaction\", \"data\": {\"interactionType\": 3, \"questionType\": 2, \"questionId\": \"2_ConvertToDatetime\", \"learnToolsVersion\": \"0.3.4\", \"valueTowardsCompletion\": 0.0, \"failureMessage\": \"\", \"exceptionClass\": \"\", \"trace\": \"\", \"outcomeType\": 4}}, \"*\")"
      ],
      "text/plain": [
       "<IPython.core.display.Javascript object>"
      ]
     },
     "metadata": {},
     "output_type": "display_data"
    },
    {
     "data": {
      "text/markdown": [
       "<span style=\"color:#33cc99\">Solution:</span> \n",
       "```python\n",
       "\n",
       "earthquakes.loc[3378, \"Date\"] = \"02/23/1975\"\n",
       "earthquakes.loc[7512, \"Date\"] = \"04/28/1985\"\n",
       "earthquakes.loc[20650, \"Date\"] = \"03/13/2011\"\n",
       "earthquakes['date_parsed'] = pd.to_datetime(earthquakes['Date'], format=\"%m/%d/%Y\")\n",
       "\n",
       "```"
      ],
      "text/plain": [
       "Solution: \n",
       "```python\n",
       "\n",
       "earthquakes.loc[3378, \"Date\"] = \"02/23/1975\"\n",
       "earthquakes.loc[7512, \"Date\"] = \"04/28/1985\"\n",
       "earthquakes.loc[20650, \"Date\"] = \"03/13/2011\"\n",
       "earthquakes['date_parsed'] = pd.to_datetime(earthquakes['Date'], format=\"%m/%d/%Y\")\n",
       "\n",
       "```"
      ]
     },
     "metadata": {},
     "output_type": "display_data"
    }
   ],
   "source": [
    "# Lines below will give you a hint or solution code\n",
    "q2.hint()\n",
    "q2.solution()"
   ]
  },
  {
   "cell_type": "markdown",
   "id": "992cd88c",
   "metadata": {
    "papermill": {
     "duration": 0.011958,
     "end_time": "2023-06-29T13:20:04.918410",
     "exception": false,
     "start_time": "2023-06-29T13:20:04.906452",
     "status": "completed"
    },
    "tags": []
   },
   "source": [
    "# 3) Select the day of the month\n",
    "\n",
    "Create a Pandas Series `day_of_month_earthquakes` containing the day of the month from the \"date_parsed\" column."
   ]
  },
  {
   "cell_type": "code",
   "execution_count": 11,
   "id": "fb4b935f",
   "metadata": {
    "execution": {
     "iopub.execute_input": "2023-06-29T13:20:04.946672Z",
     "iopub.status.busy": "2023-06-29T13:20:04.946207Z",
     "iopub.status.idle": "2023-06-29T13:20:04.959505Z",
     "shell.execute_reply": "2023-06-29T13:20:04.957723Z"
    },
    "papermill": {
     "duration": 0.030969,
     "end_time": "2023-06-29T13:20:04.962699",
     "exception": false,
     "start_time": "2023-06-29T13:20:04.931730",
     "status": "completed"
    },
    "tags": []
   },
   "outputs": [
    {
     "data": {
      "application/javascript": [
       "parent.postMessage({\"jupyterEvent\": \"custom.exercise_interaction\", \"data\": {\"outcomeType\": 1, \"valueTowardsCompletion\": 0.25, \"interactionType\": 1, \"questionType\": 1, \"questionId\": \"3_DayOfMonth\", \"learnToolsVersion\": \"0.3.4\", \"failureMessage\": \"\", \"exceptionClass\": \"\", \"trace\": \"\"}}, \"*\")"
      ],
      "text/plain": [
       "<IPython.core.display.Javascript object>"
      ]
     },
     "metadata": {},
     "output_type": "display_data"
    },
    {
     "data": {
      "text/markdown": [
       "<span style=\"color:#33cc33\">Correct</span>"
      ],
      "text/plain": [
       "Correct"
      ]
     },
     "metadata": {},
     "output_type": "display_data"
    }
   ],
   "source": [
    "# try to get the day of the month from the date column\n",
    "day_of_month_earthquakes = earthquakes['date_parsed'].dt.day\n",
    "\n",
    "# Check your answer\n",
    "q3.check()"
   ]
  },
  {
   "cell_type": "code",
   "execution_count": 12,
   "id": "b2437d32",
   "metadata": {
    "execution": {
     "iopub.execute_input": "2023-06-29T13:20:04.990296Z",
     "iopub.status.busy": "2023-06-29T13:20:04.989859Z",
     "iopub.status.idle": "2023-06-29T13:20:04.994691Z",
     "shell.execute_reply": "2023-06-29T13:20:04.993479Z"
    },
    "papermill": {
     "duration": 0.02211,
     "end_time": "2023-06-29T13:20:04.997176",
     "exception": false,
     "start_time": "2023-06-29T13:20:04.975066",
     "status": "completed"
    },
    "tags": []
   },
   "outputs": [],
   "source": [
    "# Lines below will give you a hint or solution code\n",
    "#q3.hint()\n",
    "#q3.solution()"
   ]
  },
  {
   "cell_type": "markdown",
   "id": "bdf8e282",
   "metadata": {
    "papermill": {
     "duration": 0.012557,
     "end_time": "2023-06-29T13:20:05.022673",
     "exception": false,
     "start_time": "2023-06-29T13:20:05.010116",
     "status": "completed"
    },
    "tags": []
   },
   "source": [
    "# 4) Plot the day of the month to check the date parsing\n",
    "\n",
    "Plot the days of the month from your earthquake dataset."
   ]
  },
  {
   "cell_type": "code",
   "execution_count": 13,
   "id": "f1ec0faf",
   "metadata": {
    "execution": {
     "iopub.execute_input": "2023-06-29T13:20:05.049621Z",
     "iopub.status.busy": "2023-06-29T13:20:05.049169Z",
     "iopub.status.idle": "2023-06-29T13:20:05.426815Z",
     "shell.execute_reply": "2023-06-29T13:20:05.425115Z"
    },
    "papermill": {
     "duration": 0.394667,
     "end_time": "2023-06-29T13:20:05.429832",
     "exception": false,
     "start_time": "2023-06-29T13:20:05.035165",
     "status": "completed"
    },
    "tags": []
   },
   "outputs": [
    {
     "name": "stderr",
     "output_type": "stream",
     "text": [
      "/tmp/ipykernel_20/1117681244.py:4: UserWarning: \n",
      "\n",
      "`distplot` is a deprecated function and will be removed in seaborn v0.14.0.\n",
      "\n",
      "Please adapt your code to use either `displot` (a figure-level function with\n",
      "similar flexibility) or `histplot` (an axes-level function for histograms).\n",
      "\n",
      "For a guide to updating your code to use the new functions, please see\n",
      "https://gist.github.com/mwaskom/de44147ed2974457ad6372750bbe5751\n",
      "\n",
      "  sns.distplot(day_of_month_earthquakes, kde=False, bins=31)\n"
     ]
    },
    {
     "data": {
      "text/plain": [
       "<Axes: xlabel='date_parsed'>"
      ]
     },
     "execution_count": 13,
     "metadata": {},
     "output_type": "execute_result"
    },
    {
     "data": {
      "image/png": "[encoded data removed]",
      "text/plain": [
       "<Figure size 640x480 with 1 Axes>"
      ]
     },
     "metadata": {},
     "output_type": "display_data"
    }
   ],
   "source": [
    "# TODO: Your code here!\n",
    "day_of_month_earthquakes = day_of_month_earthquakes.dropna()\n",
    "\n",
    "sns.distplot(day_of_month_earthquakes, kde=False, bins=31)"
   ]
  },
  {
   "cell_type": "markdown",
   "id": "dad8bedd",
   "metadata": {
    "papermill": {
     "duration": 0.012871,
     "end_time": "2023-06-29T13:20:05.455634",
     "exception": false,
     "start_time": "2023-06-29T13:20:05.442763",
     "status": "completed"
    },
    "tags": []
   },
   "source": [
    "Does the graph make sense to you?"
   ]
  },
  {
   "cell_type": "code",
   "execution_count": 14,
   "id": "42045b82",
   "metadata": {
    "execution": {
     "iopub.execute_input": "2023-06-29T13:20:05.483384Z",
     "iopub.status.busy": "2023-06-29T13:20:05.482739Z",
     "iopub.status.idle": "2023-06-29T13:20:05.491930Z",
     "shell.execute_reply": "2023-06-29T13:20:05.490535Z"
    },
    "papermill": {
     "duration": 0.025975,
     "end_time": "2023-06-29T13:20:05.494392",
     "exception": false,
     "start_time": "2023-06-29T13:20:05.468417",
     "status": "completed"
    },
    "tags": []
   },
   "outputs": [
    {
     "data": {
      "application/javascript": [
       "parent.postMessage({\"jupyterEvent\": \"custom.exercise_interaction\", \"data\": {\"outcomeType\": 1, \"valueTowardsCompletion\": 0.25, \"interactionType\": 1, \"questionType\": 4, \"questionId\": \"4_PlotDayOfMonth\", \"learnToolsVersion\": \"0.3.4\", \"failureMessage\": \"\", \"exceptionClass\": \"\", \"trace\": \"\"}}, \"*\")"
      ],
      "text/plain": [
       "<IPython.core.display.Javascript object>"
      ]
     },
     "metadata": {},
     "output_type": "display_data"
    },
    {
     "data": {
      "text/markdown": [
       "<span style=\"color:#33cc33\">Correct:</span> \n",
       "\n",
       "The graph should make sense: it shows a relatively even distribution in days of the month,which is what we would expect."
      ],
      "text/plain": [
       "Correct: \n",
       "\n",
       "The graph should make sense: it shows a relatively even distribution in days of the month,which is what we would expect."
      ]
     },
     "metadata": {},
     "output_type": "display_data"
    }
   ],
   "source": [
    "# Check your answer (Run this code cell to receive credit!)\n",
    "q4.check()"
   ]
  },
  {
   "cell_type": "code",
   "execution_count": 15,
   "id": "7b286084",
   "metadata": {
    "execution": {
     "iopub.execute_input": "2023-06-29T13:20:05.523602Z",
     "iopub.status.busy": "2023-06-29T13:20:05.523039Z",
     "iopub.status.idle": "2023-06-29T13:20:05.528280Z",
     "shell.execute_reply": "2023-06-29T13:20:05.526885Z"
    },
    "papermill": {
     "duration": 0.023199,
     "end_time": "2023-06-29T13:20:05.530861",
     "exception": false,
     "start_time": "2023-06-29T13:20:05.507662",
     "status": "completed"
    },
    "tags": []
   },
   "outputs": [],
   "source": [
    "# Line below will give you a hint\n",
    "#q4.hint()"
   ]
  },
  {
   "cell_type": "markdown",
   "id": "354d3696",
   "metadata": {
    "papermill": {
     "duration": 0.013354,
     "end_time": "2023-06-29T13:20:05.557972",
     "exception": false,
     "start_time": "2023-06-29T13:20:05.544618",
     "status": "completed"
    },
    "tags": []
   },
   "source": [
    "# (Optional) Bonus Challenge\n",
    "\n",
    "For an extra challenge, you'll work with a [Smithsonian dataset](https://www.kaggle.com/smithsonian/volcanic-eruptions) that documents Earth's volcanoes and their eruptive history over the past 10,000 years \n",
    "\n",
    "Run the next code cell to load the data."
   ]
  },
  {
   "cell_type": "code",
   "execution_count": 16,
   "id": "15f47dcf",
   "metadata": {
    "execution": {
     "iopub.execute_input": "2023-06-29T13:20:05.587303Z",
     "iopub.status.busy": "2023-06-29T13:20:05.586908Z",
     "iopub.status.idle": "2023-06-29T13:20:05.613250Z",
     "shell.execute_reply": "2023-06-29T13:20:05.611994Z"
    },
    "papermill": {
     "duration": 0.044787,
     "end_time": "2023-06-29T13:20:05.616509",
     "exception": false,
     "start_time": "2023-06-29T13:20:05.571722",
     "status": "completed"
    },
    "tags": []
   },
   "outputs": [],
   "source": [
    "volcanos = pd.read_csv(\"../input/volcanic-eruptions/database.csv\")"
   ]
  },
  {
   "cell_type": "markdown",
   "id": "ee95fed7",
   "metadata": {
    "papermill": {
     "duration": 0.013115,
     "end_time": "2023-06-29T13:20:05.643401",
     "exception": false,
     "start_time": "2023-06-29T13:20:05.630286",
     "status": "completed"
    },
    "tags": []
   },
   "source": [
    "Try parsing the column \"Last Known Eruption\" from the `volcanos` dataframe. This column contains a mixture of text (\"Unknown\") and years both before the common era (BCE, also known as BC) and in the common era (CE, also known as AD)."
   ]
  },
  {
   "cell_type": "code",
   "execution_count": 17,
   "id": "a6737ee1",
   "metadata": {
    "execution": {
     "iopub.execute_input": "2023-06-29T13:20:05.671709Z",
     "iopub.status.busy": "2023-06-29T13:20:05.670997Z",
     "iopub.status.idle": "2023-06-29T13:20:05.679412Z",
     "shell.execute_reply": "2023-06-29T13:20:05.678376Z"
    },
    "papermill": {
     "duration": 0.026479,
     "end_time": "2023-06-29T13:20:05.682934",
     "exception": false,
     "start_time": "2023-06-29T13:20:05.656455",
     "status": "completed"
    },
    "tags": []
   },
   "outputs": [
    {
     "data": {
      "text/plain": [
       "764     Unknown\n",
       "1069    1996 CE\n",
       "34      1855 CE\n",
       "489     2016 CE\n",
       "9       1302 CE\n",
       "Name: Last Known Eruption, dtype: object"
      ]
     },
     "execution_count": 17,
     "metadata": {},
     "output_type": "execute_result"
    }
   ],
   "source": [
    "volcanos['Last Known Eruption'].sample(5)"
   ]
  },
  {
   "cell_type": "markdown",
   "id": "a4c0dbf5",
   "metadata": {
    "papermill": {
     "duration": 0.012795,
     "end_time": "2023-06-29T13:20:05.709158",
     "exception": false,
     "start_time": "2023-06-29T13:20:05.696363",
     "status": "completed"
    },
    "tags": []
   },
   "source": [
    "# (Optional) More practice\n",
    "\n",
    "If you're interested in graphing time series, [check out this tutorial](https://www.kaggle.com/residentmario/time-series-plotting-optional).\n",
    "\n",
    "You can also look into passing columns that you know have dates in them  the `parse_dates` argument in `read_csv`. (The documention [is here](https://pandas.pydata.org/pandas-docs/stable/generated/pandas.read_csv.html).) Do note that this method can be very slow, but depending on your needs it may sometimes be handy to use.\n",
    "\n",
    "# Keep going\n",
    "\n",
    "In the next lesson, learn how to [**work with character encodings**](https://www.kaggle.com/alexisbcook/character-encodings)."
   ]
  },
  {
   "cell_type": "markdown",
   "id": "4bbdcf92",
   "metadata": {
    "papermill": {
     "duration": 0.013935,
     "end_time": "2023-06-29T13:20:05.737376",
     "exception": false,
     "start_time": "2023-06-29T13:20:05.723441",
     "status": "completed"
    },
    "tags": []
   },
   "source": [
    "---\n",
    "\n",
    "\n",
    "\n",
    "\n",
    "*Have questions or comments? Visit the [course discussion forum](https://www.kaggle.com/learn/data-cleaning/discussion) to chat with other learners.*"
   ]
  }
 ],
 "metadata": {
  "kernelspec": {
   "display_name": "Python 3",
   "language": "python",
   "name": "python3"
  },
  "language_info": {
   "codemirror_mode": {
    "name": "ipython",
    "version": 3
   },
   "file_extension": ".py",
   "mimetype": "text/x-python",
   "name": "python",
   "nbconvert_exporter": "python",
   "pygments_lexer": "ipython3",
   "version": "3.10.10"
  },
  "papermill": {
   "default_parameters": {},
   "duration": 18.386175,
   "end_time": "2023-06-29T13:20:06.776147",
   "environment_variables": {},
   "exception": null,
   "input_path": "__notebook__.ipynb",
   "output_path": "__notebook__.ipynb",
   "parameters": {},
   "start_time": "2023-06-29T13:19:48.389972",
   "version": "2.4.0"
  }
 },
 "nbformat": 4,
 "nbformat_minor": 5
}
